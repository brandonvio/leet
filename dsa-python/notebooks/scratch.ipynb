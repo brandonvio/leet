{
 "cells": [
  {
   "cell_type": "code",
   "execution_count": 18,
   "id": "cc37ddef-3930-4e30-94be-086f0bf119bc",
   "metadata": {},
   "outputs": [],
   "source": [
    "names = [\"Brandon\", \"Austin\", \"Haley\", \"Dani\", \"Esteban\"]"
   ]
  },
  {
   "cell_type": "code",
   "execution_count": 19,
   "id": "4d496499-b87f-4d98-abb9-e1f385cd9f4f",
   "metadata": {},
   "outputs": [
    {
     "data": {
      "text/plain": [
       "['Brandon', 'Austin', 'Haley', 'Dani', 'Esteban']"
      ]
     },
     "execution_count": 19,
     "metadata": {},
     "output_type": "execute_result"
    }
   ],
   "source": [
    "names"
   ]
  },
  {
   "cell_type": "code",
   "execution_count": 20,
   "id": "43618fe5-5524-4697-a9c7-2efd1e29778c",
   "metadata": {},
   "outputs": [
    {
     "data": {
      "text/plain": [
       "['Name:Brandon', 'Name:Austin', 'Name:Haley', 'Name:Dani', 'Name:Esteban']"
      ]
     },
     "execution_count": 20,
     "metadata": {},
     "output_type": "execute_result"
    }
   ],
   "source": [
    "[\"Name:\" + x for x in names]"
   ]
  },
  {
   "cell_type": "code",
   "execution_count": 21,
   "id": "59cca275-8d99-4e0b-83d7-e3139e4e234f",
   "metadata": {},
   "outputs": [],
   "source": [
    "get_names = lambda: [\"Name:\" + x for x in names]"
   ]
  },
  {
   "cell_type": "code",
   "execution_count": 22,
   "id": "be7d87cc-2f88-4dca-b06b-1b70a6acc0eb",
   "metadata": {},
   "outputs": [
    {
     "data": {
      "text/plain": [
       "['Name:Brandon', 'Name:Austin', 'Name:Haley', 'Name:Dani', 'Name:Esteban']"
      ]
     },
     "execution_count": 22,
     "metadata": {},
     "output_type": "execute_result"
    }
   ],
   "source": [
    "get_names()"
   ]
  },
  {
   "cell_type": "code",
   "execution_count": 23,
   "id": "04bbd0e8-ed9b-4c11-b7b3-ba59ddb222df",
   "metadata": {},
   "outputs": [
    {
     "data": {
      "text/plain": [
       "['Brandon', 'Austin', 'Haley', 'Dani', 'Esteban']"
      ]
     },
     "execution_count": 23,
     "metadata": {},
     "output_type": "execute_result"
    }
   ],
   "source": [
    "[n for n in names]"
   ]
  },
  {
   "cell_type": "code",
   "execution_count": 24,
   "id": "cbb9aa4d-675d-4c0b-b517-b18bfd0b8061",
   "metadata": {},
   "outputs": [
    {
     "data": {
      "text/plain": [
       "['Brandon', 'Austin', 'Haley', 'Dani', 'Esteban']"
      ]
     },
     "execution_count": 24,
     "metadata": {},
     "output_type": "execute_result"
    }
   ],
   "source": [
    "[n for n in names]"
   ]
  },
  {
   "cell_type": "code",
   "execution_count": 25,
   "id": "77974c87-06d3-45c7-88cf-43694c71a9b7",
   "metadata": {},
   "outputs": [
    {
     "name": "stdout",
     "output_type": "stream",
     "text": [
      "9\n",
      "8\n",
      "7\n",
      "6\n",
      "5\n",
      "4\n",
      "3\n",
      "2\n",
      "1\n",
      "0\n"
     ]
    }
   ],
   "source": [
    "for i in range(9, -1, -1):\n",
    "    print(i)"
   ]
  },
  {
   "cell_type": "code",
   "execution_count": null,
   "id": "ffeaa7fc-c028-48f6-ab46-4b4a161f84be",
   "metadata": {},
   "outputs": [],
   "source": []
  },
  {
   "cell_type": "code",
   "execution_count": null,
   "id": "83bff271-c329-44a1-8460-298673a51d76",
   "metadata": {},
   "outputs": [],
   "source": []
  }
 ],
 "metadata": {
  "kernelspec": {
   "display_name": "Python 3",
   "language": "python",
   "name": "python3"
  },
  "language_info": {
   "codemirror_mode": {
    "name": "ipython",
    "version": 3
   },
   "file_extension": ".py",
   "mimetype": "text/x-python",
   "name": "python",
   "nbconvert_exporter": "python",
   "pygments_lexer": "ipython3",
   "version": "3.8.8"
  }
 },
 "nbformat": 4,
 "nbformat_minor": 5
}
