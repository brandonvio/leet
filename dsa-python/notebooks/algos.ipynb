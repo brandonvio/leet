{
 "cells": [
  {
   "cell_type": "markdown",
   "id": "e87704e2-4e31-4db8-bec6-b870780463de",
   "metadata": {},
   "source": [
    "# Merge Two Sorted"
   ]
  },
  {
   "cell_type": "code",
   "execution_count": 1,
   "id": "73b0ba04-2713-40fa-88e2-bb5964aa71b5",
   "metadata": {},
   "outputs": [],
   "source": [
    "from typing import List"
   ]
  },
  {
   "cell_type": "code",
   "execution_count": 2,
   "id": "922c7529-e803-4d52-acde-2e9058f45bf3",
   "metadata": {},
   "outputs": [],
   "source": [
    "def merge_two_sorted(nums1: List[int], m:int, nums2: List[int], n:int):\n",
    "    \n",
    "    pass"
   ]
  },
  {
   "cell_type": "code",
   "execution_count": 3,
   "id": "262fc2f6-b904-44ba-bbc7-6db46f1e2afe",
   "metadata": {},
   "outputs": [
    {
     "name": "stdout",
     "output_type": "stream",
     "text": [
      "tom 2 ['a', 'b', 'c']\n",
      "tom 2 ['a', 'b', 'c', 'e', 'f', 'g']\n"
     ]
    }
   ],
   "source": [
    "\n",
    "def test_1(s: str, i: int, arr: List[str]):\n",
    "    s = s + \":one\"\n",
    "#     i = i + 21\n",
    "    i += 21\n",
    "    arr.extend([\"e\", \"f\", \"g\"])\n",
    "\n",
    "a = \"tom\"\n",
    "b = 2\n",
    "c = [\"a\", \"b\", \"c\"]\n",
    "print(a, b, c)\n",
    "test_1(a, b, c)\n",
    "print(a, b, c)"
   ]
  },
  {
   "cell_type": "markdown",
   "id": "6469f7d3-89d4-4d70-b3fa-32ce59e9a21e",
   "metadata": {},
   "source": [
    "# Sequential Search"
   ]
  },
  {
   "cell_type": "code",
   "execution_count": 4,
   "id": "bde79a4d-984c-4f1b-b353-9100e2a5d0b2",
   "metadata": {},
   "outputs": [],
   "source": [
    "def seq_search(arr, ele):\n",
    "    pos = 0\n",
    "    found = False\n",
    "    \n",
    "    while pos < len(arr) and not found:\n",
    "        if arr[pos] == ele:\n",
    "            found = True\n",
    "        else:\n",
    "            pos +=1\n",
    "            \n",
    "    return found"
   ]
  },
  {
   "cell_type": "code",
   "execution_count": 5,
   "id": "4c381743-0745-481e-a608-36f05f284747",
   "metadata": {},
   "outputs": [
    {
     "data": {
      "text/plain": [
       "True"
      ]
     },
     "execution_count": 5,
     "metadata": {},
     "output_type": "execute_result"
    }
   ],
   "source": [
    "arr = [1, 2, 4, 6, 7]\n",
    "val = 1\n",
    "seq_search(arr, val)"
   ]
  },
  {
   "cell_type": "code",
   "execution_count": 6,
   "id": "a92cabad-3b7a-4316-a3a5-19561f511adf",
   "metadata": {},
   "outputs": [
    {
     "data": {
      "text/plain": [
       "False"
      ]
     },
     "execution_count": 6,
     "metadata": {},
     "output_type": "execute_result"
    }
   ],
   "source": [
    "arr = [1, 2, 4, 6, 7]\n",
    "val = 0\n",
    "seq_search(arr, val)"
   ]
  },
  {
   "cell_type": "code",
   "execution_count": 7,
   "id": "363e68ad-91be-493c-accb-bff119d9f095",
   "metadata": {},
   "outputs": [
    {
     "data": {
      "text/plain": [
       "True"
      ]
     },
     "execution_count": 7,
     "metadata": {},
     "output_type": "execute_result"
    }
   ],
   "source": [
    "arr = [1, 2, 4, 6, 7]\n",
    "val = 7\n",
    "seq_search(arr, val)"
   ]
  },
  {
   "cell_type": "markdown",
   "id": "efb8fcb3-1f86-4209-82c6-16084e5882fe",
   "metadata": {},
   "source": [
    "# Ordered Sequential Search"
   ]
  },
  {
   "cell_type": "code",
   "execution_count": 26,
   "id": "d26d21e9-62f1-4227-be04-0ba9b675ad67",
   "metadata": {},
   "outputs": [],
   "source": [
    "def seq_search_ordered(arr, ele):\n",
    "    pos = 0\n",
    "    found = False\n",
    "    stopped = False\n",
    "    \n",
    "    while pos < len(arr) and not found and not stopped:\n",
    "        if arr[pos] == ele:\n",
    "            found = True\n",
    "        else:    \n",
    "            if arr[pos] > ele:\n",
    "                stopped = True\n",
    "\n",
    "        pos +=1\n",
    "            \n",
    "    return found"
   ]
  },
  {
   "cell_type": "code",
   "execution_count": 27,
   "id": "c06ea02c-33fb-4668-99da-1c9ea2ec5492",
   "metadata": {},
   "outputs": [
    {
     "data": {
      "text/plain": [
       "True"
      ]
     },
     "execution_count": 27,
     "metadata": {},
     "output_type": "execute_result"
    }
   ],
   "source": [
    "arr = [1, 2, 4, 6, 7]\n",
    "val = 2\n",
    "seq_search_ordered(arr, val)"
   ]
  },
  {
   "cell_type": "markdown",
   "id": "a920b22a-8a52-47ac-b15c-31298fea05f7",
   "metadata": {},
   "source": [
    "# Binary Search"
   ]
  },
  {
   "cell_type": "code",
   "execution_count": 28,
   "id": "a1427543-fa50-4265-8859-eeacea099b64",
   "metadata": {},
   "outputs": [],
   "source": [
    "def binary_search(arr, ele):\n",
    "    first = 0\n",
    "    last = len(arr) - 1\n",
    "    found = False\n",
    "    \n",
    "    while first <= last and not found:\n",
    "        mid = round((first + last) / 2)\n",
    "        \n",
    "        if arr[mid] == ele:\n",
    "            found = True\n",
    "        else:\n",
    "            if ele < arr[mid]:\n",
    "                last = mid - 1\n",
    "            else:\n",
    "                first = mid + 1\n",
    "                \n",
    "    return found"
   ]
  },
  {
   "cell_type": "code",
   "execution_count": 29,
   "id": "607660eb-92f8-4a82-8daf-6d2bbdb7e53a",
   "metadata": {},
   "outputs": [
    {
     "data": {
      "text/plain": [
       "False"
      ]
     },
     "execution_count": 29,
     "metadata": {},
     "output_type": "execute_result"
    }
   ],
   "source": [
    "arr = [1, 2, 4, 6, 7, 10]\n",
    "val = 11\n",
    "binary_search(arr, val)"
   ]
  },
  {
   "cell_type": "markdown",
   "id": "b7671450-5b10-4966-8d85-980ea3e6d41a",
   "metadata": {},
   "source": [
    "## Recursive Binary Search"
   ]
  },
  {
   "cell_type": "code",
   "execution_count": 30,
   "id": "6f68d62f-fcf9-4fd1-b5bb-9487c426eee2",
   "metadata": {},
   "outputs": [],
   "source": [
    "def rec_bin_search(arr, ele):\n",
    "    if len(arr) == 0:\n",
    "        return False\n",
    "    \n",
    "    else:\n",
    "        mid = round(len(arr)/2)\n",
    "            \n",
    "        if arr[mid] == ele:\n",
    "            return True\n",
    "        \n",
    "        else:\n",
    "            if ele < arr[mid]:\n",
    "                return rec_bin_search(arr[:mid], ele)\n",
    "            else:\n",
    "                return rec_bin_search(arr[mid+1:], ele)\n",
    "            "
   ]
  },
  {
   "cell_type": "code",
   "execution_count": 31,
   "id": "688e4f04-ecb9-4926-8038-a73f735e8967",
   "metadata": {},
   "outputs": [
    {
     "name": "stdout",
     "output_type": "stream",
     "text": [
      "False\n",
      "True\n"
     ]
    }
   ],
   "source": [
    "arr = [1, 2, 4, 6, 7, 10]\n",
    "val = 11\n",
    "print(rec_bin_search(arr, val))\n",
    "\n",
    "arr = [1, 2, 4, 6, 7, 10]\n",
    "val = 1\n",
    "print(rec_bin_search(arr, val))"
   ]
  },
  {
   "cell_type": "code",
   "execution_count": 32,
   "id": "a96c2387-7f34-4454-a7ec-5d0d52f8b75d",
   "metadata": {},
   "outputs": [],
   "source": [
    "x = {}"
   ]
  },
  {
   "cell_type": "code",
   "execution_count": 34,
   "id": "3d0a0222-40d9-4561-837c-13ff601f259b",
   "metadata": {},
   "outputs": [],
   "source": [
    "x[\"a\"] = \"xx\""
   ]
  },
  {
   "cell_type": "code",
   "execution_count": 35,
   "id": "712968d5-e99f-46eb-8f65-69b435821a65",
   "metadata": {},
   "outputs": [],
   "source": [
    "y = lambda a: a + 2"
   ]
  },
  {
   "cell_type": "code",
   "execution_count": 39,
   "id": "548dfd4a-70e4-4746-8481-467903499d9b",
   "metadata": {},
   "outputs": [],
   "source": [
    "x[\"b\"] = y"
   ]
  },
  {
   "cell_type": "code",
   "execution_count": 40,
   "id": "8515303a-800a-47e7-a0a9-f9b19edafd3b",
   "metadata": {},
   "outputs": [
    {
     "data": {
      "text/plain": [
       "23"
      ]
     },
     "execution_count": 40,
     "metadata": {},
     "output_type": "execute_result"
    }
   ],
   "source": [
    "x[\"b\"](21)"
   ]
  },
  {
   "cell_type": "code",
   "execution_count": null,
   "id": "362a4f82-5e61-445e-8f85-410c5a4207df",
   "metadata": {},
   "outputs": [],
   "source": []
  }
 ],
 "metadata": {
  "kernelspec": {
   "display_name": "Python 3",
   "language": "python",
   "name": "python3"
  },
  "language_info": {
   "codemirror_mode": {
    "name": "ipython",
    "version": 3
   },
   "file_extension": ".py",
   "mimetype": "text/x-python",
   "name": "python",
   "nbconvert_exporter": "python",
   "pygments_lexer": "ipython3",
   "version": "3.8.8"
  }
 },
 "nbformat": 4,
 "nbformat_minor": 5
}
