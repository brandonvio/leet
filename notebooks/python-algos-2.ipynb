{
 "cells": [
  {
   "cell_type": "code",
   "execution_count": null,
   "metadata": {
    "collapsed": false,
    "jupyter": {
     "outputs_hidden": false
    },
    "pycharm": {
     "name": "#%%\n"
    }
   },
   "outputs": [],
   "source": [
    "\n",
    "import ctypes\n",
    "\n",
    "\n",
    "class DynamicArray(object):\n",
    "    def __init__(self):\n",
    "        self.n = 0\n",
    "        self.capacity = 1\n",
    "        self.A = self.make_array(self.capacity)\n",
    "\n",
    "    def __len__(self):\n",
    "        return self.n\n",
    "\n",
    "    def __getitem__(self, k):\n",
    "        if not 0 <= k < self.n:\n",
    "            return IndexError('K is out of bounds.')\n",
    "        return self.A[k]\n",
    "\n",
    "    def append(self, ele):\n",
    "        if self.n == self.capacity:\n",
    "            self._resize(2 * self.capacity)\n",
    "\n",
    "        self.A[self.n] = ele\n",
    "        self.n += 1\n",
    "\n",
    "    def _resize(self, new_cap):\n",
    "        B = self.make_array(new_cap)\n",
    "        for k in range(self.n):\n",
    "            B[k] = self.A[k]\n",
    "        self.A = B\n",
    "        self.capacity = new_cap\n",
    "\n",
    "    @staticmethod\n",
    "    def make_array(new_cap):\n",
    "        return (new_cap * ctypes.py_object)()"
   ]
  },
  {
   "cell_type": "code",
   "execution_count": null,
   "metadata": {
    "collapsed": false,
    "jupyter": {
     "outputs_hidden": false
    },
    "pycharm": {
     "name": "#%%\n"
    }
   },
   "outputs": [],
   "source": [
    "arr = DynamicArray()\n",
    "arr.append(\"Brandon\")\n",
    "len(arr)\n",
    "arr.append(\"Dani\")\n",
    "len(arr)\n",
    "arr.append(\"Haley\")\n",
    "print(len(arr))\n",
    "print(arr.capacity)\n",
    "arr.append(\"Austin\")\n",
    "print(len(arr))\n",
    "print(arr.capacity)\n",
    "arr.append(\"Esteban\")\n",
    "print(len(arr))\n",
    "print(arr.capacity)"
   ]
  },
  {
   "cell_type": "code",
   "execution_count": null,
   "metadata": {
    "collapsed": false,
    "jupyter": {
     "outputs_hidden": false
    },
    "pycharm": {
     "name": "#%%\n"
    }
   },
   "outputs": [],
   "source": [
    "def anna(s1, s2):\n",
    "    clean = lambda x: str.lower(x).replace(\" \", \"\")\n",
    "    s1 = clean(s1)\n",
    "    s2 = clean(s2)\n",
    "    print(s1, s2)\n",
    "    tracker = {}\n",
    "    for char in s1:\n",
    "        if char in tracker:\n",
    "            tracker[char] += 1\n",
    "        else:\n",
    "            tracker[char] = 1\n",
    "\n",
    "    for char in s2:\n",
    "        if char in tracker:\n",
    "            tracker[char] -= 1\n",
    "        else:\n",
    "            return False\n",
    "\n",
    "    for k in tracker.keys():\n",
    "        if tracker[k] != 0:\n",
    "            return False\n",
    "\n",
    "    return True\n",
    "\n",
    "\n",
    "print(anna(\"Elvis\", \"Lives\"))\n",
    "print(anna(\"Clint Eastwood \", \"Old West action\"))\n",
    "print(anna(\"Brandon\", \"Dani\"))"
   ]
  },
  {
   "cell_type": "code",
   "execution_count": null,
   "metadata": {
    "collapsed": false,
    "jupyter": {
     "outputs_hidden": false
    },
    "pycharm": {
     "name": "#%%\n"
    }
   },
   "outputs": [],
   "source": [
    "from typing import List\n",
    "\n",
    "\n",
    "def pair_sum_count(arr1: List[int], t: int):\n",
    "    l, i, j = len(arr1), 0, 1\n",
    "    c = 0\n",
    "    while i < l:\n",
    "        print(arr[i] + \" \" + arr[j])\n",
    "        i += 1\n",
    "        j += 1\n",
    "\n",
    "\n",
    "pair_sum_count([1, 3, 2, 2], 4)"
   ]
  },
  {
   "cell_type": "code",
   "execution_count": null,
   "metadata": {
    "collapsed": false,
    "jupyter": {
     "outputs_hidden": false
    },
    "pycharm": {
     "name": "#%%\n"
    }
   },
   "outputs": [],
   "source": []
  }
 ],
 "metadata": {
  "kernelspec": {
   "display_name": "Python 3",
   "language": "python",
   "name": "python3"
  },
  "language_info": {
   "codemirror_mode": {
    "name": "ipython",
    "version": 2
   },
   "file_extension": ".py",
   "mimetype": "text/x-python",
   "name": "python",
   "nbconvert_exporter": "python",
   "pygments_lexer": "ipython2",
   "version": "2.7.6"
  }
 },
 "nbformat": 4,
 "nbformat_minor": 4
}
